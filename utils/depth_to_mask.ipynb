{
 "cells": [
  {
   "cell_type": "code",
   "execution_count": 1,
   "id": "397ddeb6",
   "metadata": {},
   "outputs": [],
   "source": [
    "import cv2, glob, os, shutil\n",
    "import numpy as np"
   ]
  },
  {
   "cell_type": "markdown",
   "id": "38da01b5",
   "metadata": {},
   "source": [
    "Downscale rectified rgb and mask it"
   ]
  },
  {
   "cell_type": "code",
   "execution_count": 2,
   "id": "13d96022",
   "metadata": {},
   "outputs": [],
   "source": [
    "rgb_dir = '/home/leyinghu/Documents/data/Real_data07182022/diffuse'\n",
    "mask_dir = '/home/leyinghu/Documents/data/Real_data07182022/depth'\n",
    "masked_dir = '/home/leyinghu/Documents/data/Real_data07182022/diffuse_masked'"
   ]
  },
  {
   "cell_type": "code",
   "execution_count": 3,
   "id": "847e342a",
   "metadata": {},
   "outputs": [],
   "source": [
    "masks = glob.glob(os.path.join(mask_dir, '*.png'))\n",
    "masks.sort()\n",
    "assert len(masks) > 0\n",
    "\n",
    "rgbs = glob.glob(os.path.join(rgb_dir, '*.png'))\n",
    "rgbs.sort()\n",
    "assert len(masks) == len(rgbs)"
   ]
  },
  {
   "cell_type": "code",
   "execution_count": 4,
   "id": "16ca9fe2",
   "metadata": {},
   "outputs": [],
   "source": [
    "# if os.path.exists(masked_dir):\n",
    "#     shutil.rmtree(masked_dir)\n",
    "# os.makedirs(masked_dir)"
   ]
  },
  {
   "cell_type": "code",
   "execution_count": 5,
   "id": "74fc0e37",
   "metadata": {},
   "outputs": [],
   "source": [
    "# for i in range(len(masks)):\n",
    "#     bmask = cv2.imread(masks[i], cv2.IMREAD_UNCHANGED)\n",
    "    \n",
    "# #     rgb = cv2.cvtColor(cv2.imread(rgbs[i], cv2.IMREAD_COLOR), cv2.COLOR_RGB2RGBA)\n",
    "#     rgb = cv2.imread(rgbs[i], cv2.IMREAD_UNCHANGED)\n",
    "#     rgb[:,:,0][bmask==0] = 0\n",
    "#     rgb[:,:,1][bmask==0] = 0\n",
    "#     rgb[:,:,2][bmask==0] = 0\n",
    "#     rgb[:,:,3][bmask==0] = 0\n",
    "    \n",
    "#     rgb = cv2.resize(rgb, (rgb.shape[1]//4, rgb.shape[0]//4))\n",
    "    \n",
    "#     cv2.imwrite(os.path.join(masked_dir, os.path.basename(rgbs[i])), rgb)"
   ]
  },
  {
   "cell_type": "markdown",
   "id": "286d24e5",
   "metadata": {},
   "source": [
    "Downscale rectified rgb"
   ]
  },
  {
   "cell_type": "code",
   "execution_count": 24,
   "id": "6b7e0f45",
   "metadata": {},
   "outputs": [],
   "source": [
    "rescaled_dir = '/home/leyinghu/Documents/data/Real_data0720/images'\n",
    "raw_dir = '/home/leyinghu/Documents/data/Real_data0720/raw'"
   ]
  },
  {
   "cell_type": "code",
   "execution_count": 25,
   "id": "9d717826",
   "metadata": {},
   "outputs": [],
   "source": [
    "raws = glob.glob(os.path.join(raw_dir, '*.png'))\n",
    "raws.sort()\n",
    "# assert len(raws) == len(masks)"
   ]
  },
  {
   "cell_type": "code",
   "execution_count": 26,
   "id": "ea27a041",
   "metadata": {},
   "outputs": [],
   "source": [
    "if os.path.exists(rescaled_dir):\n",
    "    shutil.rmtree(rescaled_dir)\n",
    "os.makedirs(rescaled_dir)"
   ]
  },
  {
   "cell_type": "code",
   "execution_count": 28,
   "id": "88c722ca",
   "metadata": {},
   "outputs": [],
   "source": [
    "for i in range(len(raws)):\n",
    "    raw = cv2.cvtColor(cv2.imread(raws[i], cv2.IMREAD_COLOR), cv2.COLOR_RGB2RGBA)\n",
    "#     raw = cv2.imread(raws[i], cv2.IMREAD_UNCHANGED)\n",
    "    assert raw.shape[2] == 4\n",
    "    raw = cv2.resize(raw, (raw.shape[1]//4, raw.shape[0]//4))\n",
    "    cv2.imwrite(os.path.join(rescaled_dir, os.path.basename(raws[i])), raw)"
   ]
  },
  {
   "cell_type": "markdown",
   "id": "232838fe",
   "metadata": {},
   "source": [
    "Downscale recitified depth"
   ]
  },
  {
   "cell_type": "code",
   "execution_count": 10,
   "id": "497e6b26",
   "metadata": {},
   "outputs": [],
   "source": [
    "rescaled_dir = '/home/leyinghu/Documents/data/Real_data07182022/downscaled_depth'\n",
    "raw_dir = '/home/leyinghu/Documents/data/Real_data07182022/depth'"
   ]
  },
  {
   "cell_type": "code",
   "execution_count": 11,
   "id": "05c05d74",
   "metadata": {},
   "outputs": [],
   "source": [
    "raws = glob.glob(os.path.join(raw_dir, '*.png'))\n",
    "raws.sort()\n",
    "assert len(raws) == len(rgbs)"
   ]
  },
  {
   "cell_type": "code",
   "execution_count": 12,
   "id": "166168da",
   "metadata": {},
   "outputs": [],
   "source": [
    "if os.path.exists(rescaled_dir):\n",
    "    shutil.rmtree(rescaled_dir)\n",
    "os.makedirs(rescaled_dir)"
   ]
  },
  {
   "cell_type": "code",
   "execution_count": 16,
   "id": "6c97ff73",
   "metadata": {},
   "outputs": [],
   "source": [
    "for i in range(len(raws)):\n",
    "    raw = cv2.imread(raws[i], cv2.IMREAD_UNCHANGED)\n",
    "\n",
    "    raw = cv2.resize(raw, (raw.shape[1]//4, raw.shape[0]//4))\n",
    "    cv2.imwrite(os.path.join(rescaled_dir, os.path.basename(raws[i]).split('.png')[0] + '_0000.png'), raw)"
   ]
  },
  {
   "cell_type": "markdown",
   "id": "c237bcad",
   "metadata": {},
   "source": [
    "Downscale recitified normal"
   ]
  },
  {
   "cell_type": "code",
   "execution_count": 17,
   "id": "3eafdb20",
   "metadata": {},
   "outputs": [],
   "source": [
    "rescaled_dir = '/home/leyinghu/Documents/data/Real_data07182022/downscaled_normal'\n",
    "raw_dir = '/home/leyinghu/Documents/data/Real_data07182022/normal'"
   ]
  },
  {
   "cell_type": "code",
   "execution_count": 18,
   "id": "aa96f3da",
   "metadata": {},
   "outputs": [],
   "source": [
    "raws = glob.glob(os.path.join(raw_dir, '*.png'))\n",
    "raws.sort()\n",
    "assert len(raws) == len(rgbs)"
   ]
  },
  {
   "cell_type": "code",
   "execution_count": 19,
   "id": "f44d617a",
   "metadata": {},
   "outputs": [],
   "source": [
    "if os.path.exists(rescaled_dir):\n",
    "    shutil.rmtree(rescaled_dir)\n",
    "os.makedirs(rescaled_dir)"
   ]
  },
  {
   "cell_type": "code",
   "execution_count": 20,
   "id": "b73921ef",
   "metadata": {},
   "outputs": [],
   "source": [
    "for i in range(len(raws)):\n",
    "    raw = cv2.imread(raws[i], cv2.IMREAD_UNCHANGED)\n",
    "\n",
    "    raw = cv2.resize(raw, (raw.shape[1]//4, raw.shape[0]//4))\n",
    "    cv2.imwrite(os.path.join(rescaled_dir, os.path.basename(raws[i]).split('.png')[0] + '_0000.png'), raw)"
   ]
  },
  {
   "cell_type": "code",
   "execution_count": null,
   "id": "95a7733c",
   "metadata": {},
   "outputs": [],
   "source": []
  }
 ],
 "metadata": {
  "kernelspec": {
   "display_name": "Python 3 (ipykernel)",
   "language": "python",
   "name": "python3"
  },
  "language_info": {
   "codemirror_mode": {
    "name": "ipython",
    "version": 3
   },
   "file_extension": ".py",
   "mimetype": "text/x-python",
   "name": "python",
   "nbconvert_exporter": "python",
   "pygments_lexer": "ipython3",
   "version": "3.8.10"
  }
 },
 "nbformat": 4,
 "nbformat_minor": 5
}
