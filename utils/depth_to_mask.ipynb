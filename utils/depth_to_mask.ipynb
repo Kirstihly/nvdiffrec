{
 "cells": [
  {
   "cell_type": "code",
   "execution_count": 1,
   "id": "397ddeb6",
   "metadata": {},
   "outputs": [],
   "source": [
    "import cv2, glob, os, shutil\n",
    "import numpy as np"
   ]
  },
  {
   "cell_type": "code",
   "execution_count": 2,
   "id": "13d96022",
   "metadata": {},
   "outputs": [],
   "source": [
    "depth_dir = '/home/leyinghu/Documents/data/Real_data07182022/depth'\n",
    "rgb_dir = '/home/leyinghu/Documents/data/Real_data07182022/diffuse'\n",
    "mask_dir = '/home/leyinghu/Documents/data/Real_data07182022/mask'\n",
    "masked_dir = '/home/leyinghu/Documents/data/Real_data07182022/masked'"
   ]
  },
  {
   "cell_type": "code",
   "execution_count": 3,
   "id": "847e342a",
   "metadata": {},
   "outputs": [],
   "source": [
    "depths = glob.glob(os.path.join(depth_dir, '*_depth.png'))\n",
    "depths.sort()\n",
    "assert len(depths) > 0\n",
    "\n",
    "rgbs = glob.glob(os.path.join(rgb_dir, '*_diffuse.png'))\n",
    "rgbs.sort()\n",
    "assert len(depths) == len(rgbs)"
   ]
  },
  {
   "cell_type": "code",
   "execution_count": 4,
   "id": "16ca9fe2",
   "metadata": {},
   "outputs": [],
   "source": [
    "if os.path.exists(mask_dir):\n",
    "    shutil.rmtree(mask_dir)\n",
    "os.makedirs(mask_dir)\n",
    "\n",
    "if os.path.exists(masked_dir):\n",
    "    shutil.rmtree(masked_dir)\n",
    "os.makedirs(masked_dir)"
   ]
  },
  {
   "cell_type": "code",
   "execution_count": 5,
   "id": "74fc0e37",
   "metadata": {},
   "outputs": [],
   "source": [
    "for i in range(len(depths)):\n",
    "    depth = cv2.imread(depths[i])\n",
    "    mask = depth[:,:,0] + depth[:,:,1] + depth[:,:,2]\n",
    "    mask[mask!=0] = 255\n",
    "    \n",
    "    rgb = cv2.cvtColor(cv2.imread(rgbs[i], cv2.IMREAD_COLOR), cv2.COLOR_RGB2RGBA)\n",
    "    rgb[:,:,0][mask==0] = 0\n",
    "    rgb[:,:,1][mask==0] = 0\n",
    "    rgb[:,:,2][mask==0] = 0\n",
    "    rgb[:,:,3][mask==0] = 0\n",
    "    \n",
    "    assert mask.shape[0] == rgb.shape[0]\n",
    "    assert mask.shape[1] == rgb.shape[1]\n",
    "    \n",
    "    mask = cv2.resize(mask, (mask.shape[1]//4, mask.shape[0]//4))\n",
    "    rgb = cv2.resize(rgb, (rgb.shape[1]//4, rgb.shape[0]//4))\n",
    "    \n",
    "    cv2.imwrite(os.path.join(mask_dir, os.path.basename(rgbs[i]).replace(\"diffuse\", \"mask\")), mask)\n",
    "    cv2.imwrite(os.path.join(masked_dir, os.path.basename(rgbs[i]).replace(\"diffuse\", \"masked\")), rgb)"
   ]
  },
  {
   "cell_type": "code",
   "execution_count": null,
   "id": "6b7e0f45",
   "metadata": {},
   "outputs": [],
   "source": []
  }
 ],
 "metadata": {
  "kernelspec": {
   "display_name": "Python 3 (ipykernel)",
   "language": "python",
   "name": "python3"
  },
  "language_info": {
   "codemirror_mode": {
    "name": "ipython",
    "version": 3
   },
   "file_extension": ".py",
   "mimetype": "text/x-python",
   "name": "python",
   "nbconvert_exporter": "python",
   "pygments_lexer": "ipython3",
   "version": "3.8.10"
  }
 },
 "nbformat": 4,
 "nbformat_minor": 5
}
