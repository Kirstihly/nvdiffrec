{
 "cells": [
  {
   "cell_type": "code",
   "execution_count": 1,
   "id": "397ddeb6",
   "metadata": {},
   "outputs": [],
   "source": [
    "import cv2, glob, os, shutil\n",
    "import numpy as np"
   ]
  },
  {
   "cell_type": "code",
   "execution_count": 2,
   "id": "13d96022",
   "metadata": {},
   "outputs": [],
   "source": [
    "seg_dir = '/home/leyinghu/Documents/argos/argos-simulation/kubric/ArgoSim/SMPLX-male_Compose/example_dome_worker/segmentation/camera_02'\n",
    "rgb_dir = '/home/leyinghu/Documents/argos/argos-simulation/kubric/ArgoSim/SMPLX-male_Compose/example_dome_worker/rgba/camera_02'\n",
    "mask_dir = '/home/leyinghu/Documents/argos/argos-simulation/kubric/ArgoSim/SMPLX-male_Compose/example_dome_worker/mask/camera_02'\n",
    "masked_dir = '/home/leyinghu/Documents/argos/argos-simulation/kubric/ArgoSim/SMPLX-male_Compose/example_dome_worker/masked/camera_02'"
   ]
  },
  {
   "cell_type": "code",
   "execution_count": 3,
   "id": "847e342a",
   "metadata": {},
   "outputs": [],
   "source": [
    "segs = glob.glob(os.path.join(seg_dir, 'segmentation_*.png'))\n",
    "segs.sort()\n",
    "assert len(segs) > 0\n",
    "\n",
    "rgbs = glob.glob(os.path.join(rgb_dir, '*.png'))\n",
    "rgbs.sort()\n",
    "assert len(segs) == len(rgbs)"
   ]
  },
  {
   "cell_type": "code",
   "execution_count": 4,
   "id": "16ca9fe2",
   "metadata": {},
   "outputs": [],
   "source": [
    "if os.path.exists(mask_dir):\n",
    "    shutil.rmtree(mask_dir)\n",
    "os.makedirs(mask_dir)\n",
    "\n",
    "if os.path.exists(masked_dir):\n",
    "    shutil.rmtree(masked_dir)\n",
    "os.makedirs(masked_dir)"
   ]
  },
  {
   "cell_type": "code",
   "execution_count": 5,
   "id": "74fc0e37",
   "metadata": {},
   "outputs": [],
   "source": [
    "for i in range(len(segs)):\n",
    "    seg = cv2.imread(segs[i], cv2.IMREAD_UNCHANGED)\n",
    "    assert seg.shape[2] == 3\n",
    "    redness = seg[:,:,0] + seg[:,:,1] + seg[:,:,2]\n",
    "    mask = np.zeros(seg.shape)\n",
    "    mask[:,:,0][redness==0] = 255\n",
    "    mask[:,:,1][redness==0] = 255\n",
    "    mask[:,:,2][redness==0] = 255\n",
    "    cv2.imwrite(os.path.join(mask_dir, os.path.basename(segs[i])), mask)\n",
    "    \n",
    "    rgb = cv2.imread(rgbs[i], cv2.IMREAD_UNCHANGED)\n",
    "    assert rgb.shape[2] == 4\n",
    "    rgb[:,:,0][redness!=0] = 0\n",
    "    rgb[:,:,1][redness!=0] = 0\n",
    "    rgb[:,:,2][redness!=0] = 0\n",
    "    rgb[:,:,3][redness!=0] = 0\n",
    "    cv2.imwrite(os.path.join(masked_dir, os.path.basename(rgbs[i])), rgb)"
   ]
  },
  {
   "cell_type": "code",
   "execution_count": null,
   "id": "b15d6f2e",
   "metadata": {},
   "outputs": [],
   "source": []
  }
 ],
 "metadata": {
  "kernelspec": {
   "display_name": "Python 3 (ipykernel)",
   "language": "python",
   "name": "python3"
  },
  "language_info": {
   "codemirror_mode": {
    "name": "ipython",
    "version": 3
   },
   "file_extension": ".py",
   "mimetype": "text/x-python",
   "name": "python",
   "nbconvert_exporter": "python",
   "pygments_lexer": "ipython3",
   "version": "3.8.10"
  }
 },
 "nbformat": 4,
 "nbformat_minor": 5
}
