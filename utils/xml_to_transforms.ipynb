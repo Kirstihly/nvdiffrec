{
 "cells": [
  {
   "cell_type": "code",
   "execution_count": 1,
   "id": "ab988962",
   "metadata": {},
   "outputs": [],
   "source": [
    "import glob, json, os\n",
    "import numpy as np\n",
    "from xml.dom import minidom"
   ]
  },
  {
   "cell_type": "code",
   "execution_count": 2,
   "id": "08c9c0e2",
   "metadata": {},
   "outputs": [],
   "source": [
    "def convertTransformationTemplate(data):\n",
    "    transform_template = dict()\n",
    "\n",
    "    transform_template['fl_x'] = np.float(data.getElementsByTagName('f')[0].childNodes[0].data)\n",
    "    transform_template['fl_y'] = transform_template['fl_x']\n",
    "    transform_template['cx'] = np.float(data.getElementsByTagName('cx')[0].childNodes[0].data)\n",
    "    transform_template['cy'] = np.float(data.getElementsByTagName('cy')[0].childNodes[0].data)\n",
    "    \n",
    "    transform_template['camera_angle_x'] = np.arctan(transform_template['cx']/transform_template['fl_x'])*2\n",
    "    transform_template['camera_angle_y'] = np.arctan(transform_template['cy']/transform_template['fl_y'])*2\n",
    "    \n",
    "    dimension = data.getElementsByTagName('resolution')[0]\n",
    "    transform_template['w'] = np.float(dimension.attributes['width'].value)\n",
    "    transform_template['h'] = np.float(dimension.attributes['height'].value)\n",
    "    \n",
    "    cameras = xml_data.getElementsByTagName('transform')\n",
    "    \n",
    "    def convertFrameTemplate(cameras, n):\n",
    "        frame_template = dict()\n",
    "        frame_template['file_path'] = str(n+1) + '_masked'\n",
    "        frame_template['transform_matrix'] = np.array(cameras[n].childNodes[0].data.split(' '), dtype=np.float).reshape((4,4)).tolist()\n",
    "        return frame_template\n",
    "    \n",
    "    transform_template['frames'] = [convertFrameTemplate(cameras, 0)]\n",
    "    for i in range(1, len(cameras)):\n",
    "        transform_template['frames'].append(convertFrameTemplate(cameras, i))\n",
    "    return transform_template"
   ]
  },
  {
   "cell_type": "code",
   "execution_count": 3,
   "id": "09ac6665",
   "metadata": {},
   "outputs": [],
   "source": [
    "xml_paths = glob.glob('/home/leyinghu/Documents/data/Real_data07182022/Cams_calib.xml')\n",
    "xml_paths.sort()"
   ]
  },
  {
   "cell_type": "code",
   "execution_count": 4,
   "id": "68486944",
   "metadata": {
    "scrolled": false
   },
   "outputs": [
    {
     "name": "stderr",
     "output_type": "stream",
     "text": [
      "/tmp/ipykernel_4772/3097377641.py:4: DeprecationWarning: `np.float` is a deprecated alias for the builtin `float`. To silence this warning, use `float` by itself. Doing this will not modify any behavior and is safe. If you specifically wanted the numpy scalar type, use `np.float64` here.\n",
      "Deprecated in NumPy 1.20; for more details and guidance: https://numpy.org/devdocs/release/1.20.0-notes.html#deprecations\n",
      "  transform_template['fl_x'] = np.float(data.getElementsByTagName('f')[0].childNodes[0].data)\n",
      "/tmp/ipykernel_4772/3097377641.py:6: DeprecationWarning: `np.float` is a deprecated alias for the builtin `float`. To silence this warning, use `float` by itself. Doing this will not modify any behavior and is safe. If you specifically wanted the numpy scalar type, use `np.float64` here.\n",
      "Deprecated in NumPy 1.20; for more details and guidance: https://numpy.org/devdocs/release/1.20.0-notes.html#deprecations\n",
      "  transform_template['cx'] = np.float(data.getElementsByTagName('cx')[0].childNodes[0].data)\n",
      "/tmp/ipykernel_4772/3097377641.py:7: DeprecationWarning: `np.float` is a deprecated alias for the builtin `float`. To silence this warning, use `float` by itself. Doing this will not modify any behavior and is safe. If you specifically wanted the numpy scalar type, use `np.float64` here.\n",
      "Deprecated in NumPy 1.20; for more details and guidance: https://numpy.org/devdocs/release/1.20.0-notes.html#deprecations\n",
      "  transform_template['cy'] = np.float(data.getElementsByTagName('cy')[0].childNodes[0].data)\n",
      "/tmp/ipykernel_4772/3097377641.py:13: DeprecationWarning: `np.float` is a deprecated alias for the builtin `float`. To silence this warning, use `float` by itself. Doing this will not modify any behavior and is safe. If you specifically wanted the numpy scalar type, use `np.float64` here.\n",
      "Deprecated in NumPy 1.20; for more details and guidance: https://numpy.org/devdocs/release/1.20.0-notes.html#deprecations\n",
      "  transform_template['w'] = np.float(dimension.attributes['width'].value)\n",
      "/tmp/ipykernel_4772/3097377641.py:14: DeprecationWarning: `np.float` is a deprecated alias for the builtin `float`. To silence this warning, use `float` by itself. Doing this will not modify any behavior and is safe. If you specifically wanted the numpy scalar type, use `np.float64` here.\n",
      "Deprecated in NumPy 1.20; for more details and guidance: https://numpy.org/devdocs/release/1.20.0-notes.html#deprecations\n",
      "  transform_template['h'] = np.float(dimension.attributes['height'].value)\n",
      "/tmp/ipykernel_4772/3097377641.py:21: DeprecationWarning: `np.float` is a deprecated alias for the builtin `float`. To silence this warning, use `float` by itself. Doing this will not modify any behavior and is safe. If you specifically wanted the numpy scalar type, use `np.float64` here.\n",
      "Deprecated in NumPy 1.20; for more details and guidance: https://numpy.org/devdocs/release/1.20.0-notes.html#deprecations\n",
      "  frame_template['transform_matrix'] = np.array(cameras[n].childNodes[0].data.split(' '), dtype=np.float).reshape((4,4)).tolist()\n"
     ]
    }
   ],
   "source": [
    "for xml_path in xml_paths:\n",
    "    \n",
    "    for trainOrTest in ['train', 'test']:\n",
    "        xml_dir = os.path.dirname(xml_path)\n",
    "        transforms_path = os.path.join(xml_dir, 'transforms_' + trainOrTest + '.json')\n",
    "        if os.path.exists(transforms_path):\n",
    "            os.remove(transforms_path)\n",
    "\n",
    "        xml_data = minidom.parse(xml_path)\n",
    "        images = glob.glob(os.path.join(xml_dir, 'diffuse', '*_diffuse.png'))\n",
    "        \n",
    "        cameras = xml_data.getElementsByTagName('transform')\n",
    "        assert len(cameras) == len(images)\n",
    "\n",
    "        transformations_template = convertTransformationTemplate(xml_data)\n",
    "\n",
    "        with open(transforms_path, 'w') as f:\n",
    "            json.dump(transformations_template, f, indent=2)\n",
    "        "
   ]
  },
  {
   "cell_type": "code",
   "execution_count": null,
   "id": "c423a2f4",
   "metadata": {},
   "outputs": [],
   "source": []
  }
 ],
 "metadata": {
  "kernelspec": {
   "display_name": "Python 3 (ipykernel)",
   "language": "python",
   "name": "python3"
  },
  "language_info": {
   "codemirror_mode": {
    "name": "ipython",
    "version": 3
   },
   "file_extension": ".py",
   "mimetype": "text/x-python",
   "name": "python",
   "nbconvert_exporter": "python",
   "pygments_lexer": "ipython3",
   "version": "3.8.10"
  }
 },
 "nbformat": 4,
 "nbformat_minor": 5
}
