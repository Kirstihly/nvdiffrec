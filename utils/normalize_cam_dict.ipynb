{
 "cells": [
  {
   "cell_type": "code",
   "execution_count": 1,
   "id": "25890643",
   "metadata": {},
   "outputs": [
    {
     "name": "stdout",
     "output_type": "stream",
     "text": [
      "Jupyter environment detected. Enabling Open3D WebVisualizer.\n",
      "[Open3D INFO] WebRTC GUI backend enabled.\n",
      "[Open3D INFO] WebRTCWindowSystem: HTTP handshake server disabled.\n"
     ]
    }
   ],
   "source": [
    "import copy, glob, json, os\n",
    "import numpy as np\n",
    "import open3d as o3d"
   ]
  },
  {
   "cell_type": "code",
   "execution_count": 2,
   "id": "6a40856d",
   "metadata": {},
   "outputs": [],
   "source": [
    "def get_tf_cams(cam_dict, target_radius=1.):\n",
    "    cam_centers = []\n",
    "    for frame in cam_dict:\n",
    "        C2W = np.array(frame['transform_matrix'])\n",
    "        assert C2W.shape == ((4,4))\n",
    "        cam_centers.append(C2W[:3, 3:4])\n",
    "\n",
    "    def get_center_and_diag(cam_centers):\n",
    "        cam_centers = np.hstack(cam_centers)\n",
    "        avg_cam_center = np.mean(cam_centers, axis=1, keepdims=True)\n",
    "        center = avg_cam_center\n",
    "        dist = np.linalg.norm(cam_centers - center, axis=0, keepdims=True)\n",
    "        diagonal = np.max(dist)\n",
    "        return center.flatten(), diagonal\n",
    "\n",
    "    center, diagonal = get_center_and_diag(cam_centers)\n",
    "    radius = diagonal * 1.1\n",
    "\n",
    "    translate = -center\n",
    "    scale = target_radius / radius\n",
    "\n",
    "    return translate, scale\n",
    "\n",
    "\n",
    "def normalize_cam_dict(in_cam_dict_file, out_cam_dict_file, target_radius=1., in_geometry_file=None, out_geometry_file=None):\n",
    "    with open(in_cam_dict_file) as fp:\n",
    "        in_cam_dict = json.load(fp)\n",
    "\n",
    "    translate, scale = get_tf_cams(in_cam_dict['frames'], target_radius=target_radius)\n",
    "\n",
    "    if in_geometry_file is not None and out_geometry_file is not None:\n",
    "        # check this page if you encounter issue in file io:\n",
    "        # http://www.open3d.org/docs/0.9.0/tutorial/Basic/file_io.html\n",
    "        geometry = o3d.io.read_triangle_mesh(in_geometry_file)\n",
    "        \n",
    "        tf_translate = np.eye(4)\n",
    "        tf_translate[:3, 3:4] = translate\n",
    "        tf_scale = np.eye(4)\n",
    "        tf_scale[:3, :3] *= scale\n",
    "        tf = np.matmul(tf_scale, tf_translate)\n",
    "\n",
    "        geometry_norm = geometry.transform(tf)\n",
    "        o3d.io.write_triangle_mesh(out_geometry_file, geometry_norm)\n",
    "  \n",
    "    def transform_pose(C2W, translate, scale):\n",
    "        cam_center = C2W[:3, 3]\n",
    "        C2W[:3, 3] = (cam_center + translate) * scale\n",
    "        return C2W\n",
    "\n",
    "    out_cam_dict = copy.deepcopy(in_cam_dict)\n",
    "    for frame in out_cam_dict['frames']:\n",
    "        C2W = np.array(frame['transform_matrix'])\n",
    "        assert C2W.shape == ((4,4))\n",
    "        C2W = transform_pose(C2W, translate, scale)\n",
    "        assert np.isclose(np.linalg.det(C2W), 1.)\n",
    "        frame['transform_matrix'] = C2W.tolist()\n",
    "\n",
    "    with open(out_cam_dict_file, 'w') as fp:\n",
    "        json.dump(out_cam_dict, fp, indent=2, sort_keys=True)"
   ]
  },
  {
   "cell_type": "code",
   "execution_count": 3,
   "id": "180bec83",
   "metadata": {},
   "outputs": [],
   "source": [
    "in_cam_dict_file = '/home/leyinghu/Documents/data/Real_data0720/agisoft_transforms_test.json'\n",
    "out_cam_dict_file = os.path.join(os.path.dirname(in_cam_dict_file), 'transforms_norm.json')\n",
    "normalize_cam_dict(in_cam_dict_file, out_cam_dict_file, target_radius=1.)"
   ]
  }
 ],
 "metadata": {
  "kernelspec": {
   "display_name": "Python 3 (ipykernel)",
   "language": "python",
   "name": "python3"
  },
  "language_info": {
   "codemirror_mode": {
    "name": "ipython",
    "version": 3
   },
   "file_extension": ".py",
   "mimetype": "text/x-python",
   "name": "python",
   "nbconvert_exporter": "python",
   "pygments_lexer": "ipython3",
   "version": "3.8.10"
  }
 },
 "nbformat": 4,
 "nbformat_minor": 5
}
