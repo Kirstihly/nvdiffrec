{
 "cells": [
  {
   "cell_type": "code",
   "execution_count": 1,
   "id": "b9cf2c37",
   "metadata": {},
   "outputs": [],
   "source": [
    "import glob, json, os\n",
    "import numpy as np"
   ]
  },
  {
   "cell_type": "code",
   "execution_count": 2,
   "id": "ad25ddfa",
   "metadata": {},
   "outputs": [],
   "source": [
    "def readJson(path):\n",
    "    f = open(path)\n",
    "    data = json.load(f)\n",
    "    f.close()\n",
    "    return data"
   ]
  },
  {
   "cell_type": "code",
   "execution_count": 3,
   "id": "df25f0c7",
   "metadata": {},
   "outputs": [],
   "source": [
    "# colmap_dir = '/home/leyinghu/Documents/data/Real_data07182022/downscaled_diffuse'\n",
    "colmap_dir = '/home/leyinghu/Documents/data/Real_data0720'"
   ]
  },
  {
   "cell_type": "code",
   "execution_count": 4,
   "id": "c16d56fc",
   "metadata": {},
   "outputs": [],
   "source": [
    "data = readJson(os.path.join(colmap_dir, 'transforms.json'))\n",
    "\n",
    "for i in range(len(data['frames'])):\n",
    "\n",
    "    raw_path = data['frames'][i]['file_path']\n",
    "    data['frames'][i]['file_path'] = raw_path.split('/')[-1].split('.png')[0]\n",
    "\n",
    "for trainOrTest in ['train', 'test']:\n",
    "    \n",
    "    transforms_path = os.path.join(colmap_dir, 'transforms_' + trainOrTest + '.json')\n",
    "    if os.path.exists(transforms_path):\n",
    "        os.remove(transforms_path)\n",
    "        \n",
    "    with open(transforms_path, 'w') as f:\n",
    "        json.dump(data, f, indent=2)\n"
   ]
  },
  {
   "cell_type": "code",
   "execution_count": null,
   "id": "c0ef9e7f",
   "metadata": {},
   "outputs": [],
   "source": []
  }
 ],
 "metadata": {
  "kernelspec": {
   "display_name": "Python 3 (ipykernel)",
   "language": "python",
   "name": "python3"
  },
  "language_info": {
   "codemirror_mode": {
    "name": "ipython",
    "version": 3
   },
   "file_extension": ".py",
   "mimetype": "text/x-python",
   "name": "python",
   "nbconvert_exporter": "python",
   "pygments_lexer": "ipython3",
   "version": "3.8.10"
  }
 },
 "nbformat": 4,
 "nbformat_minor": 5
}
